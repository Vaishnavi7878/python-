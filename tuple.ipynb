{
 "cells": [
  {
   "cell_type": "code",
   "execution_count": 5,
   "id": "ad9468b0-2889-49b9-9958-c8cdb77b04c3",
   "metadata": {},
   "outputs": [
    {
     "name": "stdout",
     "output_type": "stream",
     "text": [
      "Size of Tuple1: 72bytes\n"
     ]
    }
   ],
   "source": [
    "# 1 .Python program to Find the size of a Tuple\n",
    "Tuple1 = (\"A\", 1, \"B\", 2, \"C\", 3)\n",
    "print(\"Size of Tuple1: \" + str(Tuple1.__sizeof__()) + \"bytes\")\n"
   ]
  },
  {
   "cell_type": "code",
   "execution_count": 9,
   "id": "730dacdf-6b9e-4673-9402-924b3b8dc80b",
   "metadata": {},
   "outputs": [
    {
     "name": "stdout",
     "output_type": "stream",
     "text": [
      "The original tuple is : (5, 20, 3, 7, 6, 8)\n",
      "The extracted values : (3, 5, 8, 20)\n"
     ]
    }
   ],
   "source": [
    "# 2.  Maximum and Minimum K elements in Tuple.\n",
    "test_tup = (5, 20, 3, 7, 6, 8)\n",
    " \n",
    "# printing original tuple\n",
    "print(\"The original tuple is : \" + str(test_tup))\n",
    " \n",
    "# initializing K \n",
    "K = 2\n",
    " \n",
    "# Maximum and Minimum K elements in Tuple\n",
    "# Using sorted() + loop\n",
    "\n",
    "res = []\n",
    "test_tup = list(sorted(test_tup))\n",
    " \n",
    "for idx, val in enumerate(test_tup):\n",
    "    if idx < K or idx >= len(test_tup) - K:\n",
    "        res.append(val)\n",
    "res = tuple(res)\n",
    " \n",
    "# printing result \n",
    "print(\"The extracted values : \" + str(res)) "
   ]
  },
  {
   "cell_type": "code",
   "execution_count": 11,
   "id": "a8dfc1c1-4224-4e8a-9843-1bb4c78010a8",
   "metadata": {},
   "outputs": [
    {
     "name": "stdout",
     "output_type": "stream",
     "text": [
      "[(1, 1), (2, 8), (5, 125), (6, 216)]\n"
     ]
    }
   ],
   "source": [
    "# 3. Create a list of tuples from given list having number and its cube in each tuple\n",
    "list1 = [1, 2, 5, 6]\n",
    " \n",
    "# using list comprehension to iterate each\n",
    "# values in list and create a tuple as specified\n",
    "res = [(val, pow(val, 3)) for val in list1]\n",
    " \n",
    "# print the result\n",
    "print(res)\n"
   ]
  },
  {
   "cell_type": "code",
   "execution_count": 13,
   "id": "0a776a26-3081-40a1-8bdf-df6c3375af37",
   "metadata": {},
   "outputs": [
    {
     "name": "stdout",
     "output_type": "stream",
     "text": [
      "The original list is : [5, 6, 7]\n",
      "The container after addition : [5, 6, 7, 9, 10]\n"
     ]
    }
   ],
   "source": [
    "# 4. Adding Tuple to List and vice – versa.\n",
    "test_list = [5, 6, 7]\n",
    "\n",
    "# printing original list\n",
    "print(\"The original list is : \" + str(test_list))\n",
    "\n",
    "\n",
    "test_tup = (9, 10)\n",
    "\n",
    "# Adding Tuple to List and vice - versa\n",
    "# Using += operator (list + tuple)\n",
    "test_list += test_tup\n",
    "\n",
    "# printing result \n",
    "print(\"The container after addition : \" + str(test_list)) "
   ]
  },
  {
   "cell_type": "code",
   "execution_count": 15,
   "id": "6449c992-b471-4070-8f89-45885b51d00e",
   "metadata": {},
   "outputs": [
    {
     "name": "stdout",
     "output_type": "stream",
     "text": [
      "49\n"
     ]
    }
   ],
   "source": [
    " # 5.Sum of tuple elements.\n",
    "def summation(test_tup):\n",
    " \n",
    "    # Converting into list\n",
    "    test = list(test_tup)\n",
    " \n",
    "    # Initializing count\n",
    "    count = 0\n",
    " \n",
    "    # for loop\n",
    "    for i in test:\n",
    "        count += i\n",
    "    return count\n",
    " \n",
    " \n",
    "# Initializing test_tup\n",
    "test_tup = (5, 20, 3, 7, 6, 8)\n",
    "print(summation(test_tup))"
   ]
  },
  {
   "cell_type": "code",
   "execution_count": 17,
   "id": "2a8e044b-95be-4c2a-aa1c-80f18206ded5",
   "metadata": {},
   "outputs": [
    {
     "name": "stdout",
     "output_type": "stream",
     "text": [
      "The original tuple 1 : (10, 4, 5, 6)\n",
      "The original tuple 2 : (5, 6, 7, 5)\n",
      "The modulus tuple : (0, 4, 5, 1)\n"
     ]
    }
   ],
   "source": [
    "# 6. Modulo of tuple elements\n",
    "# Initialize tuples\n",
    "test_tup1 = (10, 4, 5, 6)\n",
    "test_tup2 = (5, 6, 7, 5)\n",
    " \n",
    "# Printing original tuples\n",
    "print(\"The original tuple 1 : \" + str(test_tup1))\n",
    "print(\"The original tuple 2 : \" + str(test_tup2))\n",
    " \n",
    "# Tuple modulo\n",
    "# using zip() + generator expression\n",
    "res = tuple(ele1 % ele2 for ele1, ele2 in zip(test_tup1, test_tup2))\n",
    " \n",
    "# Printing result\n",
    "print(\"The modulus tuple : \" + str(res))\n"
   ]
  },
  {
   "cell_type": "code",
   "execution_count": 19,
   "id": "f740edfd-16ff-41f4-80b0-12f4b5a40b53",
   "metadata": {},
   "outputs": [
    {
     "name": "stdout",
     "output_type": "stream",
     "text": [
      "The original list is : [[('lang', 3), ('is', 3)], [('best', 1)], [('for', 5), ('geeks', 1)]]\n",
      "The matrix after row elements addition : [[('lang', 3, 6), ('is', 3, 6)], [('best', 1, 7)], [('for', 5, 8), ('geeks', 1, 8)]]\n"
     ]
    }
   ],
   "source": [
    "# 7.  Row-wise element Addition in Tuple Matrix.\n",
    "# initializing list\n",
    "test_list = [[('lang', 3), ('is', 3)], [('best', 1)], [('for', 5), ('geeks', 1)]]\n",
    "\n",
    "# printing original list\n",
    "print(\"The original list is : \" + str(test_list))\n",
    "\n",
    "# initializing Custom eles\n",
    "cus_eles = [6, 7, 8]\n",
    "\n",
    "# Row-wise element Addition in Tuple Matrix\n",
    "# Using zip() + list comprehension\n",
    "res = [[(idx+ (val,)) for idx in key] for key, val in zip(test_list, cus_eles)]\n",
    "\n",
    "# printing result \n",
    "print(\"The matrix after row elements addition : \" + str(res)) "
   ]
  },
  {
   "cell_type": "code",
   "execution_count": 21,
   "id": "47266c68-dc8e-4de3-9c71-797171b74427",
   "metadata": {},
   "outputs": [
    {
     "name": "stdout",
     "output_type": "stream",
     "text": [
      "The original list :[(1, 3, 4), (2, 4, 6), (3, 8, 1)]\n"
     ]
    }
   ],
   "source": [
    "# 8. Update each element in tuple list.\n",
    "test_list = [(1, 3, 4), (2, 4, 6), (3, 8, 1)]\n",
    " \n",
    "# printing original list \n",
    "print(\"The original list :\" + str(test_list))"
   ]
  },
  {
   "cell_type": "code",
   "execution_count": 23,
   "id": "076ce8f7-2d18-4415-9d03-69fc0b71b75d",
   "metadata": {},
   "outputs": [
    {
     "name": "stdout",
     "output_type": "stream",
     "text": [
      "The original tuple : (1, 5, 7, 8, 10)\n",
      "Resultant tuple after multiplication : (5, 35, 56, 80)\n"
     ]
    }
   ],
   "source": [
    "# 9.  Multiply Adjacent elements\n",
    "test_tup = (1, 5, 7, 8, 10) \n",
    " \n",
    "# printing original tuple \n",
    "print(\"The original tuple : \" + str(test_tup)) \n",
    " \n",
    "# Adjacent element multiplication \n",
    "# using zip() + generator expression + tuple \n",
    "res = tuple(i * j for i, j in zip(test_tup, test_tup[1:])) \n",
    " \n",
    "# printing result \n",
    "print(\"Resultant tuple after multiplication : \" + str(res)) "
   ]
  },
  {
   "cell_type": "code",
   "execution_count": 27,
   "id": "86004a97-484d-4acd-b048-cd4e954c7139",
   "metadata": {},
   "outputs": [
    {
     "name": "stdout",
     "output_type": "stream",
     "text": [
      "The original list is : [(5, 6), (5, 7), (6, 8), (6, 10), (7, 13)]\n",
      "The extracted elements : [(5, 6, 7), (6, 8, 10), (7, 13)]\n"
     ]
    }
   ],
   "source": [
    "# 10. Join Tuples if similar initial element\n",
    "test_list = [(5, 6), (5, 7), (6, 8), (6, 10), (7, 13)]\n",
    " \n",
    "# printing original list\n",
    "print(\"The original list is : \" + str(test_list))\n",
    " \n",
    "# Join Tuples if similar initial element\n",
    "# Using loop\n",
    "res = []\n",
    "for sub in test_list:\n",
    "    if res and res[-1][0] == sub[0]:\n",
    "        res[-1].extend(sub[1:])\n",
    "    else:\n",
    "        res.append([ele for ele in sub])\n",
    "res = list(map(tuple, res))\n",
    " \n",
    "# printing result\n",
    "print(\"The extracted elements : \" + str(res))\n"
   ]
  },
  {
   "cell_type": "code",
   "execution_count": 31,
   "id": "d8040df1-ba0c-48b9-9de9-729d6ecd2627",
   "metadata": {},
   "outputs": [
    {
     "name": "stdout",
     "output_type": "stream",
     "text": [
      "The original tuple 1 : (4, 5)\n",
      "The original tuple 2 : (7, 8)\n",
      "The filtered tuple : [(4, 7), (4, 8), (5, 7), (5, 8), (7, 4), (7, 5), (8, 4), (8, 5)]\n"
     ]
    }
   ],
   "source": [
    "# 11.  All pair combinations of 2 tuples\n",
    "test_tuple1 = (4, 5)\n",
    "test_tuple2 = (7, 8)\n",
    " \n",
    "# printing original tuples\n",
    "print(\"The original tuple 1 : \" + str(test_tuple1))\n",
    "print(\"The original tuple 2 : \" + str(test_tuple2))\n",
    " \n",
    "# All pair combinations of 2 tuples\n",
    "# Using list comprehension\n",
    "res =  [(a, b) for a in test_tuple1 for b in test_tuple2]\n",
    "res = res +  [(a, b) for a in test_tuple2 for b in test_tuple1]\n",
    " \n",
    "# printing result \n",
    "print(\"The filtered tuple : \" + str(res))"
   ]
  },
  {
   "cell_type": "code",
   "execution_count": 33,
   "id": "29afcc3b-36ec-475a-8145-c42efc594588",
   "metadata": {},
   "outputs": [
    {
     "name": "stdout",
     "output_type": "stream",
     "text": [
      "The original list : [(4, 5), (4,), (8, 6, 7), (1,), (3, 4, 6, 7)]\n",
      "Filtered list : [(4, 5), (8, 6, 7), (3, 4, 6, 7)]\n"
     ]
    }
   ],
   "source": [
    "# 12.  Remove Tuples of Length K\n",
    "test_list = [(4, 5), (4, ), (8, 6, 7), (1, ), (3, 4, 6, 7)]\n",
    " \n",
    "# printing original list\n",
    "print(\"The original list : \" + str(test_list))\n",
    " \n",
    "# initializing K \n",
    "K = 1\n",
    " \n",
    "# 1 liner to perform task\n",
    "# filter just lengths other than K \n",
    "# len() used to compute length\n",
    "res = [ele for ele in test_list if len(ele) != K]\n",
    " \n",
    "# printing result \n",
    "print(\"Filtered list : \" + str(res))"
   ]
  },
  {
   "cell_type": "code",
   "execution_count": 37,
   "id": "8b87cc42-7709-407d-bbc8-83925ab8a873",
   "metadata": {},
   "outputs": [
    {
     "name": "stdout",
     "output_type": "stream",
     "text": [
      "The original list is : [(None, 2), (None, None), (3, 4), (12, 3), (None,)]\n",
      "Removed None Tuples : [(None, 2), (3, 4), (12, 3)]\n"
     ]
    }
   ],
   "source": [
    "# 13. Remove Tuples from the List having every element as None\n",
    "test_list = [(None, 2), (None, None), (3, 4), (12, 3), (None, )]\n",
    " \n",
    "# printing original list\n",
    "print(\"The original list is : \" + str(test_list))\n",
    " \n",
    "# negating result for discarding all None Tuples\n",
    "res = [sub for sub in test_list if not all(ele == None for ele in sub)]\n",
    " \n",
    "# printing result \n",
    "print(\"Removed None Tuples : \" + str(res))"
   ]
  },
  {
   "cell_type": "code",
   "execution_count": 39,
   "id": "e547b7db-81ac-4259-9b92-d7a3a74e1647",
   "metadata": {},
   "outputs": [
    {
     "name": "stdout",
     "output_type": "stream",
     "text": [
      "The original list is : [(3, 4, 6, 723), (1, 2), (12345,), (134, 234, 34)]\n",
      "Sorted tuples : [(1, 2), (12345,), (3, 4, 6, 723), (134, 234, 34)]\n"
     ]
    }
   ],
   "source": [
    "# 14.  Sort Tuples by Total digits\n",
    "def count_digs(tup):\n",
    "     \n",
    "    # gets total digits in tuples\n",
    "    return sum([len(str(ele)) for ele in tup ])\n",
    " \n",
    "# initializing list\n",
    "test_list = [(3, 4, 6, 723), (1, 2), (12345,), (134, 234, 34)]\n",
    " \n",
    "# printing original list\n",
    "print(\"The original list is : \" + str(test_list))\n",
    " \n",
    "# performing sort \n",
    "test_list.sort(key = count_digs)\n",
    " \n",
    "# printing result \n",
    "print(\"Sorted tuples : \" + str(test_list))"
   ]
  },
  {
   "cell_type": "code",
   "execution_count": 43,
   "id": "867e2cb4-345d-4e5c-971d-f3116ac5ba1c",
   "metadata": {},
   "outputs": [
    {
     "name": "stdout",
     "output_type": "stream",
     "text": [
      "The original tuple is : (4, 5, 4, 5, 6, 6, 5, 5, 4)\n",
      "Tuple elements frequency is : {4: 3, 5: 4, 6: 2}\n"
     ]
    }
   ],
   "source": [
    "# 15.Elements frequency in Tuple\n",
    "from collections import defaultdict\n",
    " \n",
    "test_tup = (4, 5, 4, 5, 6, 6, 5, 5, 4)\n",
    " \n",
    "# printing original tuple\n",
    "print(\"The original tuple is : \" + str(test_tup))\n",
    " \n",
    "res = defaultdict(int)\n",
    "for ele in test_tup:\n",
    "     \n",
    "    # incrementing frequency\n",
    "    res[ele] += 1\n",
    " \n",
    "# printing result \n",
    "print(\"Tuple elements frequency is : \" + str(dict(res))) "
   ]
  },
  {
   "cell_type": "code",
   "execution_count": 45,
   "id": "69852e0a-31b4-4046-8368-3f842fffa9f6",
   "metadata": {},
   "outputs": [
    {
     "name": "stdout",
     "output_type": "stream",
     "text": [
      "The original list is : [(4,), (5, 6), (2, 3, 5), (5, 6, 8, 2), (5, 9)]\n",
      "The tuple list after filtering range records : [(5, 6), (2, 3, 5), (5, 9)]\n"
     ]
    }
   ],
   "source": [
    "# 16. Filter Range Length Tuples\n",
    "test_list = [(4, ), (5, 6), (2, 3, 5), (5, 6, 8, 2), (5, 9)]\n",
    " \n",
    "# printing original list\n",
    "print(\"The original list is : \" + str(test_list))\n",
    " \n",
    "# Initializing desired lengths \n",
    "i, j = 2, 3\n",
    " \n",
    "# Filter Range Length Tuples\n",
    "# Using list comprehension + len()\n",
    "res = [sub for sub in test_list if len(sub) >= i and len(sub) <= j]\n",
    "     \n",
    "# printing result\n",
    "print(\"The tuple list after filtering range records : \" + str(res))"
   ]
  },
  {
   "cell_type": "code",
   "execution_count": 47,
   "id": "bd5b21ed-0a3e-4f9a-9c0b-695a739a0b44",
   "metadata": {},
   "outputs": [
    {
     "name": "stdout",
     "output_type": "stream",
     "text": [
      "The original list is : [(6, 5, 8), (2, 7), (6, 5, 8), (6, 5, 8), (9,), (2, 7)]\n",
      "Frequency Tuple list : [(6, 5, 8, 3), (2, 7, 2), (9, 1)]\n"
     ]
    }
   ],
   "source": [
    "# 17. Assign Frequency to Tuples\n",
    "from collections import Counter\n",
    " \n",
    "# initializing list\n",
    "test_list = [(6, 5, 8), (2, 7), (6, 5, 8), (6, 5, 8), (9, ), (2, 7)]\n",
    " \n",
    "# printing original list\n",
    "print(\"The original list is : \" + str(test_list))\n",
    " \n",
    "# one-liner to solve problem\n",
    "# assign Frequency as last element of tuple\n",
    "res = [(*key, val) for key, val in Counter(test_list).items()]\n",
    " \n",
    "# printing results\n",
    "print(\"Frequency Tuple list : \" + str(res))"
   ]
  },
  {
   "cell_type": "code",
   "execution_count": 49,
   "id": "c98cab65-b063-4afd-a9d2-3c93e2b47a20",
   "metadata": {},
   "outputs": [
    {
     "name": "stdout",
     "output_type": "stream",
     "text": [
      "The original list is : [(3, 1, 5), (1, 3, 6), (2, 5, 7), (5, 2, 8), (6, 3, 0)]\n",
      "The tuples of element at Kth position : [(1, 3, 6), (6, 3, 0)]\n"
     ]
    }
   ],
   "source": [
    "# 18. Records with Value at K index\n",
    "test_list = [(3, 1, 5), (1, 3, 6), (2, 5, 7), (5, 2, 8), (6, 3, 0)]\n",
    " \n",
    "# printing original list\n",
    "print(\"The original list is : \" + str(test_list))\n",
    " \n",
    "# initialize ele \n",
    "ele = 3\n",
    " \n",
    "# initialize K \n",
    "K = 1\n",
    " \n",
    "# Records with Value at K index\n",
    "# Using loop\n",
    "# using y for K = 1 \n",
    "res = []\n",
    "for x, y, z in test_list:\n",
    "    if y == ele:\n",
    "        res.append((x, y, z))\n",
    " \n",
    "# printing result\n",
    "print(\"The tuples of element at Kth position : \" + str(res))"
   ]
  },
  {
   "cell_type": "code",
   "execution_count": 51,
   "id": "9067d01a-974b-4f60-b74f-d940a380ba4e",
   "metadata": {},
   "outputs": [
    {
     "name": "stdout",
     "output_type": "stream",
     "text": [
      "The original tuple is : (4, 5, 4, 5, 6, 6, 5, 5, 4)\n",
      "Is tuple distinct ? : False\n"
     ]
    }
   ],
   "source": [
    "# 19 .  Test if tuple is distinct\n",
    "print(\"The original tuple is : \" + str(test_tup)) \n",
    " \n",
    "# Test if tuple is distinct \n",
    "# Using loop \n",
    "res = True\n",
    "temp = set() \n",
    "for ele in test_tup: \n",
    "    if ele in temp: \n",
    "        res = False\n",
    "        break\n",
    "    temp.add(ele) \n",
    " \n",
    "# printing result \n",
    "print(\"Is tuple distinct ? : \" + str(res)) "
   ]
  },
  {
   "cell_type": "code",
   "execution_count": 53,
   "id": "0202c651-81e6-48d9-8462-ef74a74b8cd6",
   "metadata": {},
   "outputs": [
    {
     "name": "stdout",
     "output_type": "stream",
     "text": [
      "The original list is : [(6, 24, 12), (7, 9, 6), (12, 18, 21)]\n",
      "K Multiple elements tuples : [(6, 24, 12)]\n"
     ]
    }
   ],
   "source": [
    "# 20. program to find tuples which have all elements divisible by K from a list of tuples\n",
    "test_list = [(6, 24, 12), (7, 9, 6), (12, 18, 21)]\n",
    " \n",
    "# printing original list\n",
    "print(\"The original list is : \" + str(test_list))\n",
    " \n",
    "# initializing K\n",
    "K = 6\n",
    " \n",
    "# all() used to filter elements\n",
    "res = [sub for sub in test_list if all(ele % K == 0 for ele in sub)]\n",
    " \n",
    "# printing result\n",
    "print(\"K Multiple elements tuples : \" + str(res))"
   ]
  },
  {
   "cell_type": "code",
   "execution_count": 55,
   "id": "0d9a937d-d84e-416a-9708-359e3e10b2ba",
   "metadata": {},
   "outputs": [
    {
     "name": "stdout",
     "output_type": "stream",
     "text": [
      "The original list is : [(4, 5, 9), (-3, 2, 3), (-3, 5, 6), (4, 6)]\n",
      "Positive elements Tuples : [(4, 5, 9), (4, 6)]\n"
     ]
    }
   ],
   "source": [
    "# 21. program to find Tuples with positive elements in List of tuples\n",
    "test_list = [(4, 5, 9), (-3, 2, 3), (-3, 5, 6), (4, 6)]\n",
    " \n",
    "# printing original list\n",
    "print(\"The original list is : \" + str(test_list))\n",
    " \n",
    "# all() to check each element\n",
    "res = [sub for sub in test_list if all(ele >= 0 for ele in sub)]\n",
    " \n",
    "# printing result\n",
    "print(\"Positive elements Tuples : \" + str(res))"
   ]
  },
  {
   "cell_type": "code",
   "execution_count": 57,
   "id": "9937b08f-4902-48f0-8d34-d75e95ca68c0",
   "metadata": {},
   "outputs": [
    {
     "name": "stdout",
     "output_type": "stream",
     "text": [
      "defaultdict(<class 'int'>, {('hi', 'bye'): 2, ('Geeks', 'forGeeks'): 1, ('a', 'b'): 2})\n"
     ]
    }
   ],
   "source": [
    "# 22.Count tuples occurrence in list of tuples\n",
    "import collections \n",
    "Output = collections.defaultdict(int)\n",
    " \n",
    "# List initialization\n",
    "Input = [[('hi', 'bye')], [('Geeks', 'forGeeks')],\n",
    "         [('a', 'b')], [('hi', 'bye')], [('a', 'b')]]\n",
    " \n",
    "# Using iteration\n",
    "for elem in Input:\n",
    "      Output[elem[0]] += 1\n",
    "     \n",
    "# Printing output\n",
    "print(Output)"
   ]
  },
  {
   "cell_type": "code",
   "execution_count": 59,
   "id": "037d3b52-70b2-4d97-afa8-a7ff6d3993b9",
   "metadata": {},
   "outputs": [
    {
     "name": "stdout",
     "output_type": "stream",
     "text": [
      "The original tuple is : (1, 3, 5, 2, 3, 5, 1, 1, 3)\n",
      "The tuple after removing duplicates : (1, 2, 3, 5)\n"
     ]
    }
   ],
   "source": [
    "# 23.  – Removing duplicates from tuple\n",
    "test_tup = (1, 3, 5, 2, 3, 5, 1, 1, 3)\n",
    " \n",
    "# printing original tuple \n",
    "print(\"The original tuple is : \" + str(test_tup))\n",
    " \n",
    "# Removing duplicates from tuple \n",
    "# using tuple() + set()\n",
    "res = tuple(set(test_tup))\n",
    " \n",
    "# printing result\n",
    "print(\"The tuple after removing duplicates : \" + str(res))"
   ]
  },
  {
   "cell_type": "code",
   "execution_count": 61,
   "id": "0a95e593-ace2-4bb1-ba93-5fcca7d68b35",
   "metadata": {},
   "outputs": [
    {
     "name": "stdout",
     "output_type": "stream",
     "text": [
      "The original tuple is : ([4, 7, 8], [1, 2, 3], [4, 7, 8], [9, 10, 11], [1, 2, 3])\n",
      "The unique lists tuple is : [[4, 7, 8], [1, 2, 3], [9, 10, 11]]\n"
     ]
    }
   ],
   "source": [
    "# 24 .  Remove duplicate lists in tuples (Preserving Order)\n",
    "test_tup = ([4, 7, 8], [1, 2, 3], [4, 7, 8], [9, 10, 11], [1, 2, 3])\n",
    " \n",
    "# printing original tuple \n",
    "print(\"The original tuple is : \" + str(test_tup))\n",
    " \n",
    "# Remove duplicate lists in tuples(Preserving Order)\n",
    "# Using list comprehension + set()\n",
    "temp = set()\n",
    "res = [ele for ele in test_tup if not(tuple(ele) in temp or temp.add(tuple(ele)))]\n",
    " \n",
    "# printing result\n",
    "print(\"The unique lists tuple is : \" + str(res))"
   ]
  },
  {
   "cell_type": "code",
   "execution_count": 65,
   "id": "843088fb-78dd-4fce-9734-2407f6e9f733",
   "metadata": {},
   "outputs": [
    {
     "name": "stdout",
     "output_type": "stream",
     "text": [
      "The original list is : [(15, 3), (3, 9), (1, 10), (99, 2)]\n",
      "The extracted digits : {'9', '1', '3', '0', '5', '2'}\n"
     ]
    }
   ],
   "source": [
    "# 25.  Extract digits from Tuple list\n",
    "from itertools import chain\n",
    " \n",
    "test_list = [(15, 3), (3, 9), (1, 10), (99, 2)]\n",
    " \n",
    "# printing original list\n",
    "print(\"The original list is : \" + str(test_list))\n",
    " \n",
    "# Extract digits from Tuple list\n",
    "# Using map() + chain.from_iterable() + set() + loop\n",
    "temp = map(lambda ele: str(ele), chain.from_iterable(test_list))\n",
    "res = set()\n",
    "for sub in temp:\n",
    "    for ele in sub:\n",
    "        res.add(ele)\n",
    " \n",
    "# printing result \n",
    "print(\"The extracted digits : \" + str(res)) "
   ]
  },
  {
   "cell_type": "code",
   "execution_count": 67,
   "id": "44d979a2-da2b-4af9-ac02-6f02567240ce",
   "metadata": {},
   "outputs": [
    {
     "name": "stdout",
     "output_type": "stream",
     "text": [
      "The original list 1 : [(1, 7), (6, 7), (9, 100), (4, 21)]\n",
      "The original list 2 : [(1, 3), (2, 1), (9, 7), (2, 17)]\n",
      "The mapped tuples : [(7, 3), (100, 7)]\n"
     ]
    }
   ],
   "source": [
    "# 26.  Cross Pairing in Tuple List\n",
    "test_list1 = [(1, 7), (6, 7), (9, 100), (4, 21)]\n",
    "test_list2 = [(1, 3), (2, 1), (9, 7), (2, 17)]\n",
    " \n",
    "# printing original lists\n",
    "print(\"The original list 1 : \" + str(test_list1))\n",
    "print(\"The original list 2 : \" + str(test_list2))\n",
    " \n",
    "# corresponding loop in list comprehension\n",
    "res = [(sub1[1], sub2[1]) for sub2 in test_list2 for sub1 in test_list1 if sub1[0] == sub2[0]]\n",
    " \n",
    "# printing result \n",
    "print(\"The mapped tuples : \" + str(res))"
   ]
  },
  {
   "cell_type": "code",
   "execution_count": 69,
   "id": "8d630d37-d4fa-498e-9646-026696bcb07f",
   "metadata": {},
   "outputs": [
    {
     "name": "stdout",
     "output_type": "stream",
     "text": [
      "The original list is : [(5, 4, 2), (1, 3, 4), (5, 7, 8), (7, 4, 3)]\n",
      "Resultant tuple list : [1, 4, 3]\n"
     ]
    }
   ],
   "source": [
    "# 27. Consecutive Kth column Difference in Tuple List\n",
    "test_list = [(5, 4, 2), (1, 3, 4), (5, 7, 8), (7, 4, 3)]\n",
    " \n",
    "# printing original list\n",
    "print(\"The original list is : \" + str(test_list))\n",
    " \n",
    "# initializing K \n",
    "K = 1\n",
    " \n",
    "res = []\n",
    "for idx in range(0, len(test_list) - 1):\n",
    " \n",
    "    # getting difference using abs()\n",
    "    res.append(abs(test_list[idx][K] - test_list[idx + 1][K]))\n",
    "     \n",
    "# printing result \n",
    "print(\"Resultant tuple list : \" + str(res))"
   ]
  },
  {
   "cell_type": "code",
   "execution_count": 71,
   "id": "fad4aa18-3cd2-4e3a-8a33-101f70738e9c",
   "metadata": {},
   "outputs": [
    {
     "name": "stdout",
     "output_type": "stream",
     "text": [
      "The original list is : [(5, 6, 7), (1, 3, 5), (8, 9, 19)]\n",
      "Product of Kth Column of Tuple List : 665\n"
     ]
    }
   ],
   "source": [
    "# 28.  Kth Column Product in Tuple List\n",
    "def prod(val):\n",
    "    res = 1\n",
    "    for ele in val:\n",
    "        res *= ele\n",
    "    return res\n",
    " \n",
    " \n",
    "# initialize list\n",
    "test_list = [(5, 6, 7), (1, 3, 5), (8, 9, 19)]\n",
    " \n",
    "# printing original list\n",
    "print(\"The original list is : \" + str(test_list))\n",
    " \n",
    "# initialize K\n",
    "K = 2\n",
    " \n",
    "# Tuple List Kth Column Product\n",
    "# using list comprehension + loop\n",
    "res = prod([sub[K] for sub in test_list])\n",
    " \n",
    "# printing result\n",
    "print(\"Product of Kth Column of Tuple List : \" + str(res))"
   ]
  },
  {
   "cell_type": "code",
   "execution_count": 73,
   "id": "a44c8a79-609c-4857-8cab-9731ad197f5a",
   "metadata": {},
   "outputs": [
    {
     "name": "stdout",
     "output_type": "stream",
     "text": [
      "The original tuple : ([5, 6], [6, 7, 8, 9], [3])\n",
      "The flattened tuple : (5, 6, 6, 7, 8, 9, 3)\n"
     ]
    }
   ],
   "source": [
    "# 29.Flatten tuple of List to tuple\n",
    "test_tuple = ([5, 6], [6, 7, 8, 9], [3])\n",
    " \n",
    "# printing original tuple\n",
    "print(\"The original tuple : \" + str(test_tuple))\n",
    " \n",
    "# Flatten tuple of List to tuple\n",
    "# Using sum() + tuple()\n",
    "res = tuple(sum(test_tuple, []))\n",
    " \n",
    "# printing result\n",
    "print(\"The flattened tuple : \" + str(res))"
   ]
  },
  {
   "cell_type": "code",
   "execution_count": 75,
   "id": "d4f3192a-52f0-4043-8eb0-68284dbae499",
   "metadata": {},
   "outputs": [
    {
     "name": "stdout",
     "output_type": "stream",
     "text": [
      "The original list : [('1', '4', '6'), ('5', '8'), ('2', '9'), ('1', '10')]\n",
      "Tuple list converted to String is : 1 4 6 5 8 2 9 1 10\n"
     ]
    }
   ],
   "source": [
    "# 30.  Flatten Tuples List to String\n",
    "test_list = [('1', '4', '6'), ('5', '8'), ('2', '9'), ('1', '10')]\n",
    " \n",
    "# printing original tuples list\n",
    "print(\"The original list : \" + str(test_list))\n",
    " \n",
    "# Flatten Tuples List to String\n",
    "# using join() + list comprehension\n",
    "res = ' '.join([idx for tup in test_list for idx in tup])\n",
    " \n",
    "# printing result\n",
    "print(\"Tuple list converted to String is : \" + res)"
   ]
  }
 ],
 "metadata": {
  "kernelspec": {
   "display_name": "Python 3 (ipykernel)",
   "language": "python",
   "name": "python3"
  },
  "language_info": {
   "codemirror_mode": {
    "name": "ipython",
    "version": 3
   },
   "file_extension": ".py",
   "mimetype": "text/x-python",
   "name": "python",
   "nbconvert_exporter": "python",
   "pygments_lexer": "ipython3",
   "version": "3.12.4"
  }
 },
 "nbformat": 4,
 "nbformat_minor": 5
}
