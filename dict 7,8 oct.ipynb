{
 "cells": [
  {
   "cell_type": "code",
   "execution_count": 3,
   "id": "7c5606a2-0551-43a9-b167-75a0f30ca797",
   "metadata": {},
   "outputs": [
    {
     "name": "stdout",
     "output_type": "stream",
     "text": [
      "{'brand': 'BMW', 'model': 'ix', 'year': 1964}\n"
     ]
    }
   ],
   "source": [
    "#dict method in this method (key) : key is a major key gives an then gives one and two items in key\n",
    "car_dict={\"brand\":\"BMW\",\"model\":\"ix\",\"year\":1964}\n",
    "print(car_dict)"
   ]
  },
  {
   "cell_type": "code",
   "execution_count": 5,
   "id": "a26c45a4-bbe2-44ea-a7b5-d8c956489e32",
   "metadata": {},
   "outputs": [
    {
     "name": "stdout",
     "output_type": "stream",
     "text": [
      "BMW\n"
     ]
    }
   ],
   "source": [
    "#accessing dictionary element\n",
    "print(car_dict[\"brand\"])"
   ]
  },
  {
   "cell_type": "code",
   "execution_count": 7,
   "id": "cbc5348f-5804-4279-ab54-90e39ce12a9d",
   "metadata": {},
   "outputs": [
    {
     "name": "stdout",
     "output_type": "stream",
     "text": [
      "3\n"
     ]
    }
   ],
   "source": [
    "#length of dictionary \n",
    "print(len(car_dict))"
   ]
  },
  {
   "cell_type": "code",
   "execution_count": 9,
   "id": "da3e629b-caf1-4093-9a30-5323bcffe7ae",
   "metadata": {},
   "outputs": [
    {
     "name": "stdout",
     "output_type": "stream",
     "text": [
      "<class 'dict'>\n"
     ]
    }
   ],
   "source": [
    "#type of data \n",
    "print (type (car_dict))"
   ]
  },
  {
   "cell_type": "code",
   "execution_count": 11,
   "id": "76b3122e-be30-4516-8af6-399f3e4a5ac2",
   "metadata": {},
   "outputs": [
    {
     "name": "stdout",
     "output_type": "stream",
     "text": [
      "{'brand': 'BMW', 'model': 'ix', 'year': 2000}\n"
     ]
    }
   ],
   "source": [
    "#for duplicate keys\n",
    "car_dict2={\"brand\":\"BMW\",\"model\":\"ix\",\"year\":1964,\"year\":2000}\n",
    "print(car_dict2)"
   ]
  },
  {
   "cell_type": "code",
   "execution_count": 15,
   "id": "74884129-f418-4d6f-a743-2a9a9246a3c8",
   "metadata": {},
   "outputs": [
    {
     "name": "stdout",
     "output_type": "stream",
     "text": [
      "{'brand': 'BMW', 'model': 'ix', 'year': 2024}\n"
     ]
    }
   ],
   "source": [
    "#duplicate year but print only current year\n",
    "car_dict3={\"brand\":\"BMW\",\"model\":\"ix\",\"year\":1964, \"year\":2024}\n",
    "print(car_dict3)"
   ]
  },
  {
   "cell_type": "code",
   "execution_count": 19,
   "id": "55e52186-826f-400d-b776-6f669899b341",
   "metadata": {},
   "outputs": [
    {
     "name": "stdout",
     "output_type": "stream",
     "text": [
      "ix\n"
     ]
    }
   ],
   "source": [
    "#for accessing dict items \n",
    "x= car_dict.get(\"model\")\n",
    "print(x)\n"
   ]
  },
  {
   "cell_type": "code",
   "execution_count": 21,
   "id": "f7dbf31c-eb7f-4d97-ad73-6f11c4e44389",
   "metadata": {},
   "outputs": [
    {
     "data": {
      "text/plain": [
       "dict_keys(['brand', 'model', 'year'])"
      ]
     },
     "execution_count": 21,
     "metadata": {},
     "output_type": "execute_result"
    }
   ],
   "source": [
    "#keys \n",
    "car_dict.keys()"
   ]
  },
  {
   "cell_type": "code",
   "execution_count": 23,
   "id": "3111fb62-b88d-4b46-b865-bd258f7cd02c",
   "metadata": {},
   "outputs": [
    {
     "data": {
      "text/plain": [
       "dict_values(['BMW', 'ix', 1964])"
      ]
     },
     "execution_count": 23,
     "metadata": {},
     "output_type": "execute_result"
    }
   ],
   "source": [
    "#the values ()method will return a list of all the values in the dictionary\n",
    "car_dict.values()"
   ]
  },
  {
   "cell_type": "code",
   "execution_count": 33,
   "id": "4091f3c8-49cc-45a6-876d-b262a37e505a",
   "metadata": {},
   "outputs": [
    {
     "data": {
      "text/plain": [
       "{'brand': 'BMW', 'model': 'ix', 'year': 2024}"
      ]
     },
     "execution_count": 33,
     "metadata": {},
     "output_type": "execute_result"
    }
   ],
   "source": [
    "#to change values of dictionary \n",
    "car_dict[\"year\"]=2024\n",
    "car_dict\n"
   ]
  },
  {
   "cell_type": "code",
   "execution_count": 35,
   "id": "8d084158-b4e4-4f29-8d4a-91aabc2d7c14",
   "metadata": {},
   "outputs": [
    {
     "data": {
      "text/plain": [
       "{'brand': 'BMW', 'model': 'ix', 'year': 2024, 'color': 'white'}"
      ]
     },
     "execution_count": 35,
     "metadata": {},
     "output_type": "execute_result"
    }
   ],
   "source": [
    "#To add new key:values in dictionary\n",
    "car_dict[\"color\"]=\"white\"\n",
    "car_dict"
   ]
  },
  {
   "cell_type": "code",
   "execution_count": 5,
   "id": "0739d3fb-7588-40bf-a98c-c36065df5539",
   "metadata": {},
   "outputs": [
    {
     "name": "stdout",
     "output_type": "stream",
     "text": [
      "{'name': 'A', 'year': 2023, 'pass': True, 'marks': [50, 60, 80]}\n"
     ]
    }
   ],
   "source": [
    "#the values in dictionary itens can be of any data type \n",
    "d3= {\"name\":\"A\",'year':2023,'pass':True,'marks':[50,60,80]}\n",
    "print(d3)\n",
    "\n",
    "d3['phone_no']=94566"
   ]
  },
  {
   "cell_type": "code",
   "execution_count": 7,
   "id": "3b1702d0-4f5a-4402-a950-4f3ca7a0656f",
   "metadata": {},
   "outputs": [
    {
     "data": {
      "text/plain": [
       "{'name': 'A',\n",
       " 'year': 2024,\n",
       " 'pass': True,\n",
       " 'marks': [50, 60, 80],\n",
       " 'phone_no': 94566}"
      ]
     },
     "execution_count": 7,
     "metadata": {},
     "output_type": "execute_result"
    }
   ],
   "source": [
    "#update \n",
    "d3.update({'year':2024})\n",
    "d3\n",
    "\n"
   ]
  },
  {
   "cell_type": "code",
   "execution_count": 60,
   "id": "b7c9f30e-a8bf-4441-9e53-5706c8d60085",
   "metadata": {},
   "outputs": [
    {
     "data": {
      "text/plain": [
       "{'name': 'A',\n",
       " 'year': 2024,\n",
       " 'pass': True,\n",
       " 'marks': [50, 60, 80],\n",
       " 'phone_no': 94566}"
      ]
     },
     "execution_count": 60,
     "metadata": {},
     "output_type": "execute_result"
    }
   ],
   "source": [
    "\n"
   ]
  },
  {
   "cell_type": "code",
   "execution_count": 9,
   "id": "797f5eda-1022-4a8f-acca-ae57d4b95fbc",
   "metadata": {},
   "outputs": [
    {
     "data": {
      "text/plain": [
       "94566"
      ]
     },
     "execution_count": 9,
     "metadata": {},
     "output_type": "execute_result"
    }
   ],
   "source": [
    "#for removing dictionary items \n",
    "#the pop() method removes the items with the specified key name:\n",
    "d3.pop('phone_no')"
   ]
  },
  {
   "cell_type": "code",
   "execution_count": 17,
   "id": "c1b44abb-81df-4f42-bfb7-85bcbad7499f",
   "metadata": {},
   "outputs": [
    {
     "data": {
      "text/plain": [
       "{'name': 'A', 'year': 2024, 'pass': True}"
      ]
     },
     "execution_count": 17,
     "metadata": {},
     "output_type": "execute_result"
    }
   ],
   "source": [
    "d3"
   ]
  },
  {
   "cell_type": "code",
   "execution_count": 19,
   "id": "266cf31c-b48e-4afd-b438-a87d85bccea2",
   "metadata": {},
   "outputs": [],
   "source": [
    "#the delete keyword removes the items with the specified key name\n",
    "del d3['year']"
   ]
  },
  {
   "cell_type": "code",
   "execution_count": 21,
   "id": "9a259a35-5f33-4b58-8b31-789bdb1b46c4",
   "metadata": {},
   "outputs": [
    {
     "data": {
      "text/plain": [
       "{'name': 'A', 'pass': True}"
      ]
     },
     "execution_count": 21,
     "metadata": {},
     "output_type": "execute_result"
    }
   ],
   "source": [
    "d3"
   ]
  },
  {
   "cell_type": "code",
   "execution_count": 23,
   "id": "26c145ae-74f7-4b2d-acfe-54a4b7a2b7ee",
   "metadata": {},
   "outputs": [],
   "source": [
    "#the clear() method empties the dictionary\n",
    "d3.clear()"
   ]
  },
  {
   "cell_type": "code",
   "execution_count": 25,
   "id": "5fe6cfc0-4c49-460c-8d4d-cadabab7701b",
   "metadata": {},
   "outputs": [
    {
     "data": {
      "text/plain": [
       "{}"
      ]
     },
     "execution_count": 25,
     "metadata": {},
     "output_type": "execute_result"
    }
   ],
   "source": [
    "d3"
   ]
  },
  {
   "cell_type": "code",
   "execution_count": 29,
   "id": "107194e2-da92-44d4-a7fc-7071148cacb7",
   "metadata": {},
   "outputs": [
    {
     "data": {
      "text/plain": [
       "{'name': 'a', 'year': 2023, 'pass': True, 'marks': [50, 60, 70]}"
      ]
     },
     "execution_count": 29,
     "metadata": {},
     "output_type": "execute_result"
    }
   ],
   "source": [
    "#copy dictionary \n",
    "d3={\"name\":\"a\",'year':2023,'pass': True,'marks':[50,60,70]}\n",
    "d3"
   ]
  },
  {
   "cell_type": "code",
   "execution_count": 31,
   "id": "5413073a-5c39-4221-a9d0-3f01d14ec67d",
   "metadata": {},
   "outputs": [
    {
     "data": {
      "text/plain": [
       "{'name': 'a', 'year': 2023, 'pass': True, 'marks': [50, 60, 70]}"
      ]
     },
     "execution_count": 31,
     "metadata": {},
     "output_type": "execute_result"
    }
   ],
   "source": [
    "d4 = d3.copy()\n",
    "d4"
   ]
  },
  {
   "cell_type": "code",
   "execution_count": 35,
   "id": "ee234ca0-cd6d-423b-9647-0be26cba3ebf",
   "metadata": {},
   "outputs": [
    {
     "data": {
      "text/plain": [
       "{'name': 'a', 'year': 2023, 'pass': True, 'marks': [50, 60, 70]}"
      ]
     },
     "execution_count": 35,
     "metadata": {},
     "output_type": "execute_result"
    }
   ],
   "source": [
    "#copy and this dict method both are work same.\n",
    "d5=dict(d4)\n",
    "d5"
   ]
  },
  {
   "cell_type": "code",
   "execution_count": 61,
   "id": "256e593a-9901-40c7-9a0b-b772b4b50a45",
   "metadata": {},
   "outputs": [
    {
     "name": "stdout",
     "output_type": "stream",
     "text": [
      "{'child': {'name': 'email', 'year': 2004}, 'child2': {'name': 'tobias', 'year': 2007}, 'child3': {'name': 'linus', 'year': 2011}}\n"
     ]
    }
   ],
   "source": [
    "#nested dictionary\n",
    "myfamily = {\n",
    " \"child\": {\n",
    " \"name\": \"email\",\n",
    " \"year\": 2004\n",
    " },\n",
    "  \"child2\":{\n",
    "    \"name\": \"tobias\",\n",
    "    \"year\": 2007\n",
    "  },\n",
    "    \"child3\":{ \n",
    "    \"name\": \"linus\",\n",
    "    \"year\": 2011\n",
    "}\n",
    "}\n",
    "\n",
    "print(myfamily)"
   ]
  },
  {
   "cell_type": "code",
   "execution_count": 63,
   "id": "ae039b3c-8fa4-42dd-8bd4-a58638434f4e",
   "metadata": {},
   "outputs": [
    {
     "name": "stdout",
     "output_type": "stream",
     "text": [
      "tobias\n"
     ]
    }
   ],
   "source": [
    "print (myfamily[\"child2\"][\"name\"])"
   ]
  },
  {
   "cell_type": "code",
   "execution_count": null,
   "id": "68a26909-8ae0-4069-8c40-935c742b43d9",
   "metadata": {},
   "outputs": [],
   "source": []
  }
 ],
 "metadata": {
  "kernelspec": {
   "display_name": "Python 3 (ipykernel)",
   "language": "python",
   "name": "python3"
  },
  "language_info": {
   "codemirror_mode": {
    "name": "ipython",
    "version": 3
   },
   "file_extension": ".py",
   "mimetype": "text/x-python",
   "name": "python",
   "nbconvert_exporter": "python",
   "pygments_lexer": "ipython3",
   "version": "3.12.4"
  }
 },
 "nbformat": 4,
 "nbformat_minor": 5
}
