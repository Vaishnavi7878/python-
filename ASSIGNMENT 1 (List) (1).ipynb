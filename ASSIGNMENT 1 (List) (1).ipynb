{
 "cells": [
  {
   "cell_type": "code",
   "execution_count": null,
   "id": "2ddc00e6-f7ba-48d6-a2dc-42a82a2372e9",
   "metadata": {},
   "outputs": [],
   "source": [
    "\"\"\" Assignment 1 (List)"
   ]
  },
  {
   "cell_type": "code",
   "execution_count": 21,
   "id": "cb95ae59-197c-4e1e-9e26-b627feae6018",
   "metadata": {},
   "outputs": [
    {
     "name": "stdout",
     "output_type": "stream",
     "text": [
      "[10, 20, 30, 40, 50, 60]\n",
      "[60, 20, 30, 40, 50, 10]\n"
     ]
    }
   ],
   "source": [
    "#Write a program to interchange first and last elements in a list.\n",
    "my_list= [10,20,30,40,50,60]\n",
    "print(my_list)\n",
    "#interchange first and last element\n",
    "my_list[0],my_list[-1]=my_list[-1],my_list[0]\n",
    "print(my_list)"
   ]
  },
  {
   "cell_type": "code",
   "execution_count": 23,
   "id": "041abc73-f6ec-4c47-aa6c-b0ee3d364886",
   "metadata": {},
   "outputs": [
    {
     "name": "stdout",
     "output_type": "stream",
     "text": [
      "[78, 25, 56, 26]\n"
     ]
    }
   ],
   "source": [
    "# 2.program to swap two elements in a list .\n",
    "a = [56,25,78,26]\n",
    "# swap\n",
    "a[0],a[2]=a[2],a[0]\n",
    "print(a)"
   ]
  },
  {
   "cell_type": "code",
   "execution_count": 25,
   "id": "870b8e51-19c2-468d-a71b-ccc5e3481d54",
   "metadata": {},
   "outputs": [
    {
     "name": "stdout",
     "output_type": "stream",
     "text": [
      "['english', 'is', 'good']\n"
     ]
    }
   ],
   "source": [
    "# 3. swap element in string list .\n",
    "list_str = [\"english\", \"good\",\"is\"]\n",
    "#swap string list\n",
    "list_str[1],list_str[2]= list_str[2],list_str[1]\n",
    "print(list_str)"
   ]
  },
  {
   "cell_type": "code",
   "execution_count": 27,
   "id": "a3d29fe0-9260-4638-8adc-c940961fdca6",
   "metadata": {},
   "outputs": [
    {
     "name": "stdout",
     "output_type": "stream",
     "text": [
      "7\n"
     ]
    }
   ],
   "source": [
    "# 4. Ways to find length of list\n",
    "x= [6,8,9,3,6,8,4]\n",
    "length = len(x)\n",
    "print(length)"
   ]
  },
  {
   "cell_type": "code",
   "execution_count": 31,
   "id": "171f5047-9006-4938-b273-c2245b1a62a3",
   "metadata": {},
   "outputs": [
    {
     "name": "stdout",
     "output_type": "stream",
     "text": [
      "80\n"
     ]
    }
   ],
   "source": [
    "# 5. Maximum of two numbers in python.\n",
    "x = max(50,80)\n",
    "print(x)\n"
   ]
  },
  {
   "cell_type": "code",
   "execution_count": 33,
   "id": "07f1299d-2c40-4cf6-8b67-c3b347116eca",
   "metadata": {},
   "outputs": [
    {
     "name": "stdout",
     "output_type": "stream",
     "text": [
      "50\n"
     ]
    }
   ],
   "source": [
    "# 6. Minimum of two numbers in python \n",
    "num1 = 50\n",
    "num2 = 80\n",
    "num = min(50,80)\n",
    "print(num)"
   ]
  },
  {
   "cell_type": "code",
   "execution_count": 19,
   "id": "85f2ae72-4c70-41a6-969f-ed5255fabe62",
   "metadata": {},
   "outputs": [
    {
     "name": "stdout",
     "output_type": "stream",
     "text": [
      "True\n"
     ]
    }
   ],
   "source": [
    "# 7. Ways to check if element exists in list.\n",
    "thislist = [\"apple\", \"banana\", \"cherry\"]\n",
    "if \"apple\" in thislist:\n",
    "    print (\"apple\" in thislist)\n",
    "else:\n",
    "    print (\"apple\" in thislist)"
   ]
  },
  {
   "cell_type": "code",
   "execution_count": 27,
   "id": "edf470ff-9f81-41c8-b14b-2265c6b71176",
   "metadata": {},
   "outputs": [
    {
     "name": "stdout",
     "output_type": "stream",
     "text": [
      "[]\n"
     ]
    }
   ],
   "source": [
    "# 8. different ways to clear a list in python.\n",
    "list = [\"a\",\"b\",\"c\",\"d\"]\n",
    "list.clear()\n",
    "print(list)"
   ]
  },
  {
   "cell_type": "code",
   "execution_count": 29,
   "id": "94ddcdbe-8a5d-481d-b690-71d0a578d118",
   "metadata": {},
   "outputs": [
    {
     "name": "stdout",
     "output_type": "stream",
     "text": [
      "['hari', 'ram', 'krish']\n"
     ]
    }
   ],
   "source": [
    "# 9. reversing a list\n",
    "fruits = ['krish', 'ram', 'hari']\n",
    "fruits.reverse()\n",
    "print (fruits)"
   ]
  },
  {
   "cell_type": "code",
   "execution_count": 35,
   "id": "94f521ff-030f-47fb-a966-0bc8b7582608",
   "metadata": {},
   "outputs": [
    {
     "name": "stdout",
     "output_type": "stream",
     "text": [
      "['cherry', 'mango', 'apple', 'orange']\n"
     ]
    }
   ],
   "source": [
    "# 10. cloning or copying a list .\n",
    "fruit = ['cherry', 'mango', 'apple','orange']\n",
    "x= fruit.copy()\n",
    "print(x)"
   ]
  },
  {
   "cell_type": "code",
   "execution_count": 41,
   "id": "41f86fdc-3d09-4fdf-9b41-fd7dc822886f",
   "metadata": {},
   "outputs": [
    {
     "data": {
      "text/plain": [
       "1"
      ]
     },
     "execution_count": 41,
     "metadata": {},
     "output_type": "execute_result"
    }
   ],
   "source": [
    "# 11. count occurrence of an element in a list.\n",
    "list = ['fatima', 'kamini','vanshu','shyam']\n",
    "list.count('kamini')"
   ]
  },
  {
   "cell_type": "code",
   "execution_count": 47,
   "id": "3aad2ad4-6b3d-460e-b539-6befa744a019",
   "metadata": {},
   "outputs": [
    {
     "name": "stdout",
     "output_type": "stream",
     "text": [
      "150\n",
      "30.0\n"
     ]
    }
   ],
   "source": [
    "# 12. program to find sum and average of list in python .\n",
    "number = [10,20,30,40,50]\n",
    "total_sum = sum(number)\n",
    "average = total_sum/len(number)\n",
    "print (total_sum)\n",
    "print (average)\n",
    "\n"
   ]
  },
  {
   "cell_type": "code",
   "execution_count": 55,
   "id": "fd31ad06-ae65-488f-9d01-0bd2b14673ff",
   "metadata": {},
   "outputs": [
    {
     "name": "stdout",
     "output_type": "stream",
     "text": [
      "2292\n"
     ]
    }
   ],
   "source": [
    "# 13. sum of number digits in list.\n",
    "list = [528,852,654,258]\n",
    "x = sum(list)\n",
    "print(x)\n"
   ]
  },
  {
   "cell_type": "code",
   "execution_count": 1,
   "id": "00b6ebc0-b9af-4968-9be4-148e18dee555",
   "metadata": {},
   "outputs": [
    {
     "name": "stdout",
     "output_type": "stream",
     "text": [
      "40\n"
     ]
    }
   ],
   "source": [
    "# 14. multiply all numbers in the  list.\n",
    "x = 8\n",
    "y = 5\n",
    "print (x*y)"
   ]
  },
  {
   "cell_type": "code",
   "execution_count": 3,
   "id": "f7ba7923-7ace-4c6c-ad4d-d45f18fdba4b",
   "metadata": {},
   "outputs": [
    {
     "name": "stdout",
     "output_type": "stream",
     "text": [
      "2\n"
     ]
    }
   ],
   "source": [
    "# 15. program to find smallest number in a list.\n",
    "x = [5,3,9,7,5,8,4,2]\n",
    "list = min(x)\n",
    "print(list)"
   ]
  },
  {
   "cell_type": "code",
   "execution_count": 5,
   "id": "6fb4deb3-ac4d-49f3-9574-1ed7ae3ad39c",
   "metadata": {},
   "outputs": [
    {
     "name": "stdout",
     "output_type": "stream",
     "text": [
      "9\n"
     ]
    }
   ],
   "source": [
    "# 16. program to find largest number in a list.\n",
    "list_1 = [9,2,5,4,7,1,6]\n",
    "y = max(list_1)\n",
    "print(y)"
   ]
  },
  {
   "cell_type": "code",
   "execution_count": 157,
   "id": "0a3bbc54-8e41-49d9-9b0d-b801dfc6836b",
   "metadata": {},
   "outputs": [
    {
     "name": "stdout",
     "output_type": "stream",
     "text": [
      "4\n"
     ]
    }
   ],
   "source": [
    "# 17. program to find second largest numbers in a list.\n",
    "\n",
    "def find_second_largest(Mak2001):\n",
    "    return sorted(set(Mak2001))[-2]\n",
    "\n",
    "Mak2001 = [1, 2, 3, 4, 5]\n",
    "print(find_second_largest(Mak2001))\n",
    "\n"
   ]
  },
  {
   "cell_type": "code",
   "execution_count": 17,
   "id": "e30a94e5-e0d0-4baa-be5f-073747f8d9b2",
   "metadata": {},
   "outputs": [
    {
     "name": "stdout",
     "output_type": "stream",
     "text": [
      "2\n",
      "4\n",
      "6\n",
      "8\n"
     ]
    }
   ],
   "source": [
    "# 18. program to print even number in a list.\n",
    "even = [1,2,3,4,5,6,7,8,9]\n",
    "for val in even:\n",
    "  \n",
    "    # Checks if a number is divisible by 2 (i.e., even).\n",
    "    if val % 2 == 0:\n",
    "        print(val)\n"
   ]
  },
  {
   "cell_type": "code",
   "execution_count": 25,
   "id": "41106caf-93fc-4feb-8bb2-7589f4250d89",
   "metadata": {},
   "outputs": [
    {
     "name": "stdout",
     "output_type": "stream",
     "text": [
      "1\n",
      "5\n",
      "9\n",
      "7\n",
      "25\n",
      "45\n"
     ]
    }
   ],
   "source": [
    "# 19. program to print odd number in a list.\n",
    "odd = [1,2,34,8,5,9,7,25,45]\n",
    "for val1 in odd:\n",
    "\n",
    "  if val1 % 2 != 0:\n",
    "      print(val1)"
   ]
  },
  {
   "cell_type": "code",
   "execution_count": 39,
   "id": "eb40ccc7-fe62-4cd1-88a8-02e9994d6c64",
   "metadata": {},
   "outputs": [
    {
     "name": "stdin",
     "output_type": "stream",
     "text": [
      "Enter the start of range:  10\n",
      "Enter the end of range:  30\n"
     ]
    },
    {
     "name": "stdout",
     "output_type": "stream",
     "text": [
      "10\n",
      "12\n",
      "14\n",
      "16\n",
      "18\n",
      "20\n",
      "22\n",
      "24\n",
      "26\n",
      "28\n"
     ]
    }
   ],
   "source": [
    "# 20. program to print all even number in a range.\n",
    "start = int(input(\"Enter the start of range: \"))\n",
    "end = int(input(\"Enter the end of range: \"))\n",
    " \n",
    "# iterating each number in list\n",
    "for x in range(start, end):\n",
    " \n",
    "    # checking condition\n",
    "    if x % 2 == 0:\n",
    "        print(x,)"
   ]
  },
  {
   "cell_type": "code",
   "execution_count": 49,
   "id": "a02a4843-3760-4877-af21-3dd4c44082ac",
   "metadata": {},
   "outputs": [
    {
     "name": "stdin",
     "output_type": "stream",
     "text": [
      "Enter the start of range:  4\n",
      "Enter the end of range:  25\n"
     ]
    },
    {
     "name": "stdout",
     "output_type": "stream",
     "text": [
      "5\n",
      "7\n",
      "9\n",
      "11\n",
      "13\n",
      "15\n",
      "17\n",
      "19\n",
      "21\n",
      "23\n"
     ]
    }
   ],
   "source": [
    "# 21. program to print all odd number in a range.\n",
    "start = int(input(\"Enter the start of range: \"))\n",
    "end = int(input(\"Enter the end of range: \"))\n",
    " \n",
    "# iterating each number in list\n",
    "for x in range(start, end):\n",
    " \n",
    "    # checking condition\n",
    "    if x % 2 != 0:\n",
    "        print(x,)"
   ]
  },
  {
   "cell_type": "code",
   "execution_count": 73,
   "id": "4ae4344f-6f20-47da-8baa-009da92ce1ce",
   "metadata": {},
   "outputs": [
    {
     "name": "stdout",
     "output_type": "stream",
     "text": [
      "Even numbers in the list:  4\n",
      "Odd numbers in the list:  5\n"
     ]
    }
   ],
   "source": [
    "# 22.Program to count Even and Odd numbers in a List\n",
    "list1 = [85,95,2,4,6,1,78,13,15]\n",
    " \n",
    "even_count, odd_count = 0, 0\n",
    " \n",
    "# iterating each number in list\n",
    "for x in list1:\n",
    " \n",
    "    # checking condition\n",
    "    if x % 2 == 0:\n",
    "        even_count += 1\n",
    " \n",
    "    else:\n",
    "        odd_count += 1\n",
    " \n",
    "print(\"Even numbers in the list: \", even_count)\n",
    "print(\"Odd numbers in the list: \", odd_count)\n",
    " \n"
   ]
  },
  {
   "cell_type": "code",
   "execution_count": 81,
   "id": "f82f4f4e-434d-4a28-8dbc-816208249483",
   "metadata": {},
   "outputs": [
    {
     "name": "stdout",
     "output_type": "stream",
     "text": [
      "1 55 36 0 "
     ]
    }
   ],
   "source": [
    "# 23.Program to print positive numbers in a list.\n",
    "list_this = [1,-85,-96,55,36,-84,0]\n",
    "\n",
    "\n",
    "for num in list_this:\n",
    "    \n",
    "    if num >= 0:\n",
    "        print(num, end=\" \")\n"
   ]
  },
  {
   "cell_type": "code",
   "execution_count": 87,
   "id": "03d32498-4206-4ff1-be33-d87134ab7878",
   "metadata": {},
   "outputs": [
    {
     "name": "stdout",
     "output_type": "stream",
     "text": [
      "-55-96-74-5"
     ]
    }
   ],
   "source": [
    "# 24.Program to print negative numbers in a list\n",
    "this_list = [5,-55,22,-96,-74,-5,4]\n",
    "\n",
    "# iterating each number in list\n",
    "for x in this_list:\n",
    "     # checking condition\n",
    "    if x < 0:\n",
    "      print(x,end=\"\")"
   ]
  },
  {
   "cell_type": "code",
   "execution_count": 97,
   "id": "1544d9de-5da6-4572-80db-276078b9bd54",
   "metadata": {},
   "outputs": [
    {
     "name": "stdin",
     "output_type": "stream",
     "text": [
      "Enter the start of range:  -2\n",
      "Enter the end of range:  15\n"
     ]
    },
    {
     "name": "stdout",
     "output_type": "stream",
     "text": [
      "0 1 2 3 4 5 6 7 8 9 10 11 12 13 14 "
     ]
    }
   ],
   "source": [
    "# 25. Program to print all positive numbers in a range.\n",
    "start = int(input(\"Enter the start of range: \"))\n",
    "end = int(input(\"Enter the end of range: \"))\n",
    "\n",
    "# iterating each number in list\n",
    "for x in range(start, end):\n",
    "         # checking condition\n",
    "    if x >= 0:\n",
    "        print(x,end = \" \")"
   ]
  },
  {
   "cell_type": "code",
   "execution_count": 99,
   "id": "e3cf4ca6-6ce3-4d3f-aa1b-d7d40530bbf9",
   "metadata": {},
   "outputs": [
    {
     "name": "stdin",
     "output_type": "stream",
     "text": [
      "Enter the start of range:  -4\n",
      "Enter the end of range:  5\n"
     ]
    },
    {
     "name": "stdout",
     "output_type": "stream",
     "text": [
      "-4 -3 -2 -1 "
     ]
    }
   ],
   "source": [
    "# 26.Program to print all negative numbers in a range.\n",
    "start = int(input(\"Enter the start of range: \"))\n",
    "end = int(input(\"Enter the end of range: \"))\n",
    "# iterating each number in list\n",
    "for num in range(start, end):\n",
    "         # checking condition\n",
    "    if num < 0:\n",
    "        print (num,end = \" \")\n"
   ]
  },
  {
   "cell_type": "code",
   "execution_count": 109,
   "id": "6d05fec1-a389-45e0-a716-4f1067c67faf",
   "metadata": {},
   "outputs": [
    {
     "name": "stdout",
     "output_type": "stream",
     "text": [
      "positive numbers in the list:  9\n",
      "negative numbers in the list:  5\n"
     ]
    }
   ],
   "source": [
    "# 27. Program to count positive and negative numbers in a list.\n",
    "list1 = [85,95,2,4,6,1,78,13,15,-85,-5,-9,-3,-2]\n",
    " \n",
    "positive_count, negative_count = 0, 0\n",
    " \n",
    "# iterating each number in list\n",
    "for x in list1:\n",
    " \n",
    "    # checking condition\n",
    "    if x >= 0:\n",
    "        positive_count += 1\n",
    " \n",
    "    else:\n",
    "        negative_count += 1\n",
    " \n",
    "print(\"positive numbers in the list: \", positive_count)\n",
    "print(\"negative numbers in the list: \", negative_count)\n"
   ]
  },
  {
   "cell_type": "code",
   "execution_count": 125,
   "id": "ec207204-31ba-49bd-afde-5c8388bcc59b",
   "metadata": {},
   "outputs": [
    {
     "name": "stdout",
     "output_type": "stream",
     "text": [
      "[8, 9, 2, 7, 6, 4, 3, 5]\n",
      "[8, 2, 7, 6, 4, 3, 5]\n"
     ]
    }
   ],
   "source": [
    "#  28.Remove multiple elements from a list in Python\n",
    "num = [5,8,9,2,7,6,4,3,5]\n",
    "to_remove= [5,9]\n",
    "# Removing elements\n",
    "for item in to_remove:\n",
    "    if item in num:\n",
    "        num.remove(item)\n",
    "    print(num)\n",
    "\n"
   ]
  },
  {
   "cell_type": "code",
   "execution_count": 133,
   "id": "b067cc13-2492-4ad1-b227-f91c2e9b7879",
   "metadata": {},
   "outputs": [
    {
     "name": "stdout",
     "output_type": "stream",
     "text": [
      "[1, 3, 5, 6]\n"
     ]
    }
   ],
   "source": [
    "# 29.Remove empty tuples from a list\n",
    "list1= [1, (), 3, (), 5, 6]\n",
    "res = list(filter(None, list1))\n",
    "print(str(res))"
   ]
  },
  {
   "cell_type": "code",
   "execution_count": 161,
   "id": "6ae488f4-75bc-4938-93c0-6063452595b3",
   "metadata": {},
   "outputs": [
    {
     "name": "stdout",
     "output_type": "stream",
     "text": [
      "[20, 30, -20, 60]\n"
     ]
    }
   ],
   "source": [
    "# 30.Program to print duplicates from a list of integers\n",
    "def Repeat(x):\n",
    "    _size = len(x)\n",
    "    repeated = []\n",
    "    for i in range(_size):\n",
    "        k = i + 1\n",
    "        for j in range(k, _size):\n",
    "            if x[i] == x[j] and x[i] not in repeated:\n",
    "                repeated.append(x[i])\n",
    "    return repeated\n",
    "\n",
    "list1 = [10, 20, 30, 20, 20, 30, 40, \n",
    "         50, -20, 60, 60, -20, -20]\n",
    "print (Repeat(list1))"
   ]
  }
 ],
 "metadata": {
  "kernelspec": {
   "display_name": "Python 3 (ipykernel)",
   "language": "python",
   "name": "python3"
  },
  "language_info": {
   "codemirror_mode": {
    "name": "ipython",
    "version": 3
   },
   "file_extension": ".py",
   "mimetype": "text/x-python",
   "name": "python",
   "nbconvert_exporter": "python",
   "pygments_lexer": "ipython3",
   "version": "3.12.4"
  }
 },
 "nbformat": 4,
 "nbformat_minor": 5
}
