{
 "cells": [
  {
   "cell_type": "code",
   "execution_count": 1,
   "id": "c8b610d9-4154-4e62-911d-8b90a4da2e75",
   "metadata": {},
   "outputs": [],
   "source": [
    "## function \n",
    "\n",
    "# function is a block of code which only runs when it is called\n",
    "# you can pass data, known as parameters, into a function\n",
    "# a function can return data as a result\n"
   ]
  },
  {
   "cell_type": "code",
   "execution_count": 2,
   "id": "947c8a2d-732e-486b-ac5f-3642e928acaa",
   "metadata": {},
   "outputs": [],
   "source": [
    "# a function is defined using the def keyword\n",
    "def my_function():\n",
    "    print(\"hello from a function\")"
   ]
  },
  {
   "cell_type": "code",
   "execution_count": 12,
   "id": "f4fd2657-b278-43ee-aa8b-b55b13df73f1",
   "metadata": {},
   "outputs": [
    {
     "name": "stdout",
     "output_type": "stream",
     "text": [
      "hello from a function\n"
     ]
    }
   ],
   "source": [
    "# calling function \n",
    "def my_function():\n",
    "    print(\"hello from a function\")\n",
    "my_function()"
   ]
  },
  {
   "cell_type": "code",
   "execution_count": 18,
   "id": "49c2da59-97fb-4a11-94a7-a3115df4aa29",
   "metadata": {},
   "outputs": [
    {
     "name": "stdout",
     "output_type": "stream",
     "text": [
      "donaldtrump\n"
     ]
    }
   ],
   "source": [
    "# argument \n",
    "# information can be passed into function as arguments.\n",
    "# arugment are specified after the function name, inside the parentheses.\n",
    "def my_function(fname):\n",
    "    print(fname+ \"trump\")\n",
    "my_function(\"donald\")"
   ]
  },
  {
   "cell_type": "code",
   "execution_count": 20,
   "id": "101f9969-a98c-4878-9d6b-c62879f7f287",
   "metadata": {},
   "outputs": [
    {
     "name": "stdout",
     "output_type": "stream",
     "text": [
      "micheltrump\n"
     ]
    }
   ],
   "source": [
    "my_function(\"michel\")"
   ]
  },
  {
   "cell_type": "code",
   "execution_count": null,
   "id": "c302ed51-560d-404c-93c7-1f03bf2d0849",
   "metadata": {},
   "outputs": [],
   "source": [
    "# syntax with return statement\n",
    "def fuunction_name(parameter):\n",
    "    #function body \n",
    "    return experssion "
   ]
  },
  {
   "cell_type": "code",
   "execution_count": 24,
   "id": "a02a21dd-f4bd-4467-9963-42dedcf6429c",
   "metadata": {},
   "outputs": [
    {
     "data": {
      "text/plain": [
       "14"
      ]
     },
     "execution_count": 24,
     "metadata": {},
     "output_type": "execute_result"
    }
   ],
   "source": [
    "# function with multiple parameters\n",
    "def add (a,b):\n",
    "    return a+b\n",
    "add(5,9)"
   ]
  },
  {
   "cell_type": "code",
   "execution_count": 30,
   "id": "d75b5a36-9ed7-4004-b7dd-b09bdc12b4f5",
   "metadata": {},
   "outputs": [
    {
     "data": {
      "text/plain": [
       "(12, 6)"
      ]
     },
     "execution_count": 30,
     "metadata": {},
     "output_type": "execute_result"
    }
   ],
   "source": [
    "# function can return multiple parameter = \n",
    "def add (x,y):\n",
    "     return x+y,x\n",
    "add(6,6)"
   ]
  },
  {
   "cell_type": "code",
   "execution_count": null,
   "id": "d10cdbe4-6ee1-46f7-b305-46192019897c",
   "metadata": {},
   "outputs": [],
   "source": [
    "# write function to swap two number without using third  value.\n"
   ]
  }
 ],
 "metadata": {
  "kernelspec": {
   "display_name": "Python 3 (ipykernel)",
   "language": "python",
   "name": "python3"
  },
  "language_info": {
   "codemirror_mode": {
    "name": "ipython",
    "version": 3
   },
   "file_extension": ".py",
   "mimetype": "text/x-python",
   "name": "python",
   "nbconvert_exporter": "python",
   "pygments_lexer": "ipython3",
   "version": "3.12.4"
  }
 },
 "nbformat": 4,
 "nbformat_minor": 5
}
